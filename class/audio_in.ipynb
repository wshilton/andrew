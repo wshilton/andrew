{
 "cells": [
  {
   "cell_type": "code",
   "execution_count": 1,
   "id": "6d6f8f05",
   "metadata": {},
   "outputs": [],
   "source": [
    "import pyaudio\n",
    "import wave"
   ]
  },
  {
   "cell_type": "code",
   "execution_count": 2,
   "id": "7728e193",
   "metadata": {},
   "outputs": [
    {
     "name": "stdout",
     "output_type": "stream",
     "text": [
      "0 Built-in Microphone\n",
      "1 Built-in Output\n",
      "2 UMA16v2\n"
     ]
    }
   ],
   "source": [
    "# Instantiate PyAudio and initialize PortAudio system resources (1)\n",
    "#print device info\n",
    "audio = pyaudio.PyAudio()\n",
    "for i in range(0, audio.get_device_count()):\n",
    "    print(i, audio.get_device_info_by_index(i)['name'])"
   ]
  },
  {
   "cell_type": "code",
   "execution_count": 3,
   "id": "a3520efe",
   "metadata": {},
   "outputs": [
    {
     "name": "stdout",
     "output_type": "stream",
     "text": [
      "0 Built-in Microphone\n",
      "1 Built-in Output\n",
      "2 UMA16v2\n",
      "recording...\n",
      "finished recording\n"
     ]
    }
   ],
   "source": [
    "FORMAT = pyaudio.paInt16\n",
    "CHANNELS = 2\n",
    "RATE = 44100\n",
    "CHUNK = 1024\n",
    "RECORD_SECONDS = 3*60*60\n",
    "WAVE_OUTPUT_FILENAME = \"outfile.wav\"\n",
    " \n",
    "audio = pyaudio.PyAudio()\n",
    "\n",
    "#print device info\n",
    "for i in range(0, audio.get_device_count()):\n",
    "    print(i, audio.get_device_info_by_index(i)['name'])\n",
    " \n",
    "# start Recording\n",
    "stream = audio.open(format=FORMAT, channels=CHANNELS,\n",
    "                rate=RATE, input=True,\n",
    "                frames_per_buffer=CHUNK,\n",
    "                input_device_index=2)\n",
    "\n",
    "print(\"recording...\")\n",
    "frames = []\n",
    " \n",
    "for i in range(0, int(RATE / CHUNK * RECORD_SECONDS)):\n",
    "    data = stream.read(CHUNK)\n",
    "    frames.append(data)\n",
    "print(\"finished recording\")\n",
    " \n",
    " \n",
    "# stop Recording\n",
    "stream.stop_stream()\n",
    "stream.close()\n",
    "audio.terminate()\n",
    " \n",
    "waveFile = wave.open(WAVE_OUTPUT_FILENAME, 'wb')\n",
    "waveFile.setnchannels(CHANNELS)\n",
    "waveFile.setsampwidth(audio.get_sample_size(FORMAT))\n",
    "waveFile.setframerate(RATE)\n",
    "waveFile.writeframes(b''.join(frames))\n",
    "waveFile.close()"
   ]
  },
  {
   "cell_type": "code",
   "execution_count": null,
   "id": "fc673241",
   "metadata": {},
   "outputs": [],
   "source": [
    "#UNIFORM PLANAR ACOUSTIC ARRAY PROCESSING NEXT STEPS\n",
    "#TODO: Implement a modified CFAR technique in order to trim data stream. Following this,\n",
    "#proposal is to use the Sphinx English language model in order to extract speech. Can be done\n",
    "#in real time. Experimenting currently with the Sphinx model.\n",
    "#Initial plan is to log this derivative speech data alongside post-processed acoustic data\n",
    "#in order to leave open additional sensor integration pathways with K-band transceiver, IR\n",
    "#and optical camera.\n",
    "#\n",
    "#UNIFORM CIRCULAR ACOUSTIC ARRAY PROCESSING NEXT STEPS\n",
    "#Identify facilities for full integration with miniDSP interface so that direction of\n",
    "#arrival data may be logged. Integrate this information with initial job scheduler --\n",
    "#,limited now to simple array positioning via servo.\n",
    "#\n",
    "# Future considerations:\n",
    "# Noise cancellation in planar lobe may be carried out using channel-averaged data\n",
    "# in the circular plane. This amounts to a custom acoustic beamformer and it\n",
    "# would require the finer channel API and much more signal processing. Need to study\n",
    "# extensibility of on-board processing. E.g., might be able to manipulate circular\n",
    "# beamformer with JMOS (or whatever) interface and feed amplified data to mic (exists\n",
    "# on planar array?). In such case, no off-board processing would be necessary.\n",
    "#\n",
    "# Above procedure would cancel planar mainlobe. Refinement is to bias on the orthogonal axes\n",
    "# so that the secondary lobe is a weighted circular average. This holds only if mainlobe\n",
    "# data is not reflecting on surfaces and propagating toward the positive-biased circular\n",
    "# elements. A more active processing paradigm could first cancel any mainlobe signatures\n",
    "# on each channel element. This is a rich area -- so rich simulation is almost warranted!\n",
    "# Careful assessment of interface and on-board\n",
    "# beamforming process should be made. The aim here, generally, is to extract additional SNR out\n",
    "# of the planar array."
   ]
  },
  {
   "cell_type": "code",
   "execution_count": null,
   "id": "c2694dcf",
   "metadata": {},
   "outputs": [],
   "source": [
    "import numpy as np\n",
    "import matplotlib.pyplot as plt\n",
    "signal = []\n",
    "for i in range(0, int(RATE / CHUNK * RECORD_SECONDS)):\n",
    "    signal = np.append(signal,np.frombuffer(frames[i], \"int16\"))\n",
    "plt.figure(1)\n",
    "plt.title(\"Acoustic Amplitude\")\n",
    "plt.plot(signal)\n",
    "plt.show()"
   ]
  },
  {
   "cell_type": "code",
   "execution_count": null,
   "id": "3498e764",
   "metadata": {},
   "outputs": [],
   "source": [
    "stream.stop_stream()\n",
    "stream.close()\n",
    "audio.terminate()\n",
    " \n",
    "waveFile = wave.open(WAVE_OUTPUT_FILENAME, 'wb')\n",
    "waveFile.setnchannels(CHANNELS)\n",
    "waveFile.setsampwidth(audio.get_sample_size(FORMAT))\n",
    "waveFile.setframerate(RATE)\n",
    "waveFile.writeframes(b''.join(frames))\n",
    "waveFile.close()"
   ]
  },
  {
   "cell_type": "code",
   "execution_count": null,
   "id": "e40c846e",
   "metadata": {},
   "outputs": [],
   "source": []
  }
 ],
 "metadata": {
  "kernelspec": {
   "display_name": "Python 3",
   "language": "python",
   "name": "python3"
  },
  "language_info": {
   "codemirror_mode": {
    "name": "ipython",
    "version": 3
   },
   "file_extension": ".py",
   "mimetype": "text/x-python",
   "name": "python",
   "nbconvert_exporter": "python",
   "pygments_lexer": "ipython3",
   "version": "3.8.8"
  }
 },
 "nbformat": 4,
 "nbformat_minor": 5
}
