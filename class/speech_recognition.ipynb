{
 "cells": [
  {
   "cell_type": "code",
   "execution_count": null,
   "id": "ca1e0725",
   "metadata": {},
   "outputs": [],
   "source": [
    "# Audio post-processing.\n",
    "#\n",
    "# For first pass, subject S3 acoustic data to a speech recognition model."
   ]
  },
  {
   "cell_type": "code",
   "execution_count": null,
   "id": "208cfbbe",
   "metadata": {},
   "outputs": [],
   "source": [
    "import speech_recognition as sr\n",
    "from os import path\n",
    "\n",
    "#TODO: Create a Get permission for the bucket if plan is to process locally.\n",
    "AUDIO_FILE = \"input_audio.wav\"\n",
    "\n",
    "#Initailize engine\n",
    "r = sr.Recognizer()\n",
    "\n",
    "#Execute speech recognition model on audio file\n",
    "with sr.AudioFile(AUDIO_FILE) as source:\n",
    "    audio = r.record(source)\n",
    "\n",
    "#Log model output.\n",
    "#TODO: Determine if timestamps can be generated from model output.\n",
    "print(\"Sphinx thinks you said \" + r.recognize_sphinx(audio))"
   ]
  }
 ],
 "metadata": {
  "kernelspec": {
   "display_name": "Python 3",
   "language": "python",
   "name": "python3"
  },
  "language_info": {
   "codemirror_mode": {
    "name": "ipython",
    "version": 3
   },
   "file_extension": ".py",
   "mimetype": "text/x-python",
   "name": "python",
   "nbconvert_exporter": "python",
   "pygments_lexer": "ipython3",
   "version": "3.8.8"
  }
 },
 "nbformat": 4,
 "nbformat_minor": 5
}
